{
 "cells": [
  {
   "cell_type": "code",
   "execution_count": null,
   "metadata": {},
   "outputs": [],
   "source": [
    "def batch_norm_forward(x, gamma, beta, eps):\n",
    "    mu = np.mean(x, axis=0) # mean\n",
    "    var = np.var(x, axis=0) # variance\n",
    "    # var = np.mean((x-mu) ** 2, axis=0)\n",
    "    \n",
    "    x_norm = (x - mu) / np.sqrt(var + eps) # normalize\n",
    "    y = gamma * x_norm + beta # scale and shift\n",
    "    \n",
    "    return y, mu, var\n",
    "\n",
    "# forward\n",
    "h1 = x @ W1 + b1\n",
    "\n",
    "# batch norm\n",
    "y1, mu1, var1 = batch_norm_forward(h1, gamma1, beta1, eps)\n",
    "\n",
    "# ReLU\n",
    "y1[y1 < 0] = 0"
   ]
  },
  {
   "cell_type": "code",
   "execution_count": null,
   "metadata": {},
   "outputs": [],
   "source": [
    "# dl/dx_norm = dl/dy * gamma\n",
    "def batch_norm_backward(dy, x, gamma, beta, eps, mu, var):    \n",
    "    std_inv = 1. / np.sqrt(var + eps)\n",
    "    \n",
    "    dx_norm = dy * gamma\n",
    "    dvar = np.sum(dx_norm * (x - mu), axis=0) * -.5 * (std_inv ** 3)\n",
    "    dmu = np.sum(dx_norm * -std_inv, axis=0) + dvar * np.mean(-2. * x_mu, axis=0)\n",
    "    \n",
    "    dx = (dx_norm * std_inv) + (dvar * 2 * x_mu / N) + (dmu / N)\n",
    "    dgamma = np.sum(dy * x_norm, axis=0)\n",
    "    dbeta = np.sum(dy, axis=0)\n",
    "    \n",
    "    return dx, dgamma, dbeta"
   ]
  },
  {
   "cell_type": "code",
   "execution_count": null,
   "metadata": {},
   "outputs": [],
   "source": [
    "# test\n",
    "mu = np.mean(mu1, mu2, ...)\n",
    "var = m / (m-1) * np.mean(var1, var2, ...)\n",
    "\n",
    "y = gamma / np.sqrt(var + eps) * x + (beta - gamma * mu / np.sqrt(var + eps))"
   ]
  }
 ],
 "metadata": {
  "kernelspec": {
   "display_name": "Python 3",
   "language": "python",
   "name": "python3"
  },
  "language_info": {
   "codemirror_mode": {
    "name": "ipython",
    "version": 3
   },
   "file_extension": ".py",
   "mimetype": "text/x-python",
   "name": "python",
   "nbconvert_exporter": "python",
   "pygments_lexer": "ipython3",
   "version": "3.7.3"
  }
 },
 "nbformat": 4,
 "nbformat_minor": 2
}
